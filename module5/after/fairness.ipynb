{
  "cells": [
    {
      "cell_type": "code",
      "execution_count": null,
      "metadata": {
        "gather": {
          "logged": 1635992831320
        }
      },
      "outputs": [],
      "source": [
        "import azureml.core\n",
        "print(azureml.core.VERSION)"
      ]
    },
    {
      "cell_type": "code",
      "execution_count": null,
      "metadata": {
        "gather": {
          "logged": 1635992832178
        },
        "jupyter": {
          "outputs_hidden": false,
          "source_hidden": false
        },
        "nteract": {
          "transient": {
            "deleting": false
          }
        }
      },
      "outputs": [],
      "source": [
        "from azureml.core.workspace import Workspace\n",
        "ws = Workspace.from_config()\n",
        "ws.get_details()"
      ]
    },
    {
      "cell_type": "code",
      "execution_count": null,
      "metadata": {},
      "outputs": [],
      "source": [
        "%%writefile requirements_fair.txt\n",
        "\n",
        "azureml-core\n",
        "scikit-learn\n",
        "azureml-dataset-runtime\n",
        "azureml-contrib-fairness\n",
        "fairlearn==0.7.0\n",
        "raiwidgets\n",
        "numpy<=1.20.0\n",
        "lightgbm\n"
      ]
    },
    {
      "cell_type": "code",
      "execution_count": null,
      "metadata": {
        "gather": {
          "logged": 1635992832375
        },
        "jupyter": {
          "outputs_hidden": false,
          "source_hidden": false
        },
        "nteract": {
          "transient": {
            "deleting": false
          }
        }
      },
      "outputs": [],
      "source": [
        "from azureml.core import Environment\n",
        "from azureml.core.environment import CondaDependencies\n",
        "myenv = Environment.from_pip_requirements(name=\"scikit_fairness\", file_path=\"requirements_fair.txt\")\n",
        "myenv.register(workspace=ws)"
      ]
    },
    {
      "cell_type": "code",
      "execution_count": null,
      "metadata": {
        "gather": {
          "logged": 1635992242255
        },
        "jupyter": {
          "outputs_hidden": false,
          "source_hidden": false
        },
        "nteract": {
          "transient": {
            "deleting": false
          }
        }
      },
      "outputs": [],
      "source": [
        "%%writefile train_fairness.py\n",
        "\n",
        "import joblib\n",
        "\n",
        "from sklearn.datasets import load_diabetes\n",
        "from sklearn.linear_model import Ridge\n",
        "import sklearn\n",
        "\n",
        "from azureml.core import Dataset\n",
        "from azureml.core.run import Run\n",
        "import numpy as np\n",
        "import sklearn\n",
        "\n",
        "from azureml.core import Model\n",
        "from azureml.core.resource_configuration import ResourceConfiguration\n",
        "\n",
        "from sklearn.model_selection import train_test_split\n",
        "\n",
        "\n",
        "dataset_x, dataset_y = load_diabetes(as_frame=True, return_X_y = True)\n",
        "sensitive = dataset_x[[\"age\", \"sex\"]]\n",
        "dataset_x.drop(labels=[\"age\", \"sex\"], axis=1)\n",
        "(X_train, X_test, y_train, y_test, A_train, A_test) = train_test_split(\n",
        "    dataset_x, dataset_y, sensitive, test_size=0.3, random_state=12345\n",
        ")\n",
        "\n",
        "## Align indices\n",
        "X_train = X_train.reset_index(drop=True)\n",
        "X_test = X_test.reset_index(drop=True)\n",
        "y_train = y_train.reset_index(drop=True)\n",
        "y_test = y_test.reset_index(drop=True)\n",
        "A_train = A_train.reset_index(drop=True)\n",
        "A_test = A_test.reset_index(drop=True)\n",
        "\n",
        "\n",
        "model = Ridge().fit(X_train, y_train)\n",
        "\n",
        "joblib.dump(model, 'sklearn_regression_model.pkl')\n",
        "\n",
        "print('Model trained')\n",
        "\n",
        "\n",
        "## Store sample input and output datasets into Azure\n",
        "\n",
        "np.savetxt('features.csv', X_train, delimiter=',')\n",
        "np.savetxt('labels.csv', y_train, delimiter=',')\n",
        "run = Run.get_context()\n",
        "ws = run.experiment.workspace\n",
        "datastore = ws.get_default_datastore()\n",
        "datastore.upload_files(files=['./features.csv', './labels.csv'],\n",
        "                       target_path='sklearn_regression/',\n",
        "                       overwrite=True)\n",
        "\n",
        "input_dataset = Dataset.Tabular.from_delimited_files(path=[(datastore, 'sklearn_regression/features.csv')])\n",
        "output_dataset = Dataset.Tabular.from_delimited_files(path=[(datastore, 'sklearn_regression/labels.csv')])\n",
        "## Register model\n",
        "\n",
        "registered_model = Model.register(workspace=ws,\n",
        "                       model_name='fair_model',                # Name of the registered model in your workspace.\n",
        "                       model_path='./sklearn_regression_model.pkl',  # Local file to upload and register as a model.\n",
        "                       model_framework=Model.Framework.SCIKITLEARN,  # Framework used to create the model.\n",
        "                       model_framework_version=sklearn.__version__,  # Version of scikit-learn used to create the model.\n",
        "                       sample_input_dataset=input_dataset,\n",
        "                       sample_output_dataset=output_dataset,\n",
        "                       resource_configuration=ResourceConfiguration(cpu=1, memory_in_gb=0.5),\n",
        "                       description='Ridge regression model to predict diabetes progression.',\n",
        "                       tags={'area': 'diabetes', 'type': 'regression'})\n",
        "\n",
        "print('Name:', registered_model.name)\n",
        "print('Version:', registered_model.version)\n",
        "\n",
        "\n",
        "## Check fairness\n",
        "from fairlearn.metrics._group_metric_set import _create_group_metric_set\n",
        "from azureml.contrib.fairness import upload_dashboard_dictionary, download_dashboard_by_upload_id\n",
        "\n",
        "#  Create a dictionary of model(s) you want to assess for fairness \n",
        "sf = { 'Age': A_test.age, 'Sex': A_test.sex}\n",
        "ys_pred = { registered_model.id: model.predict(X_test)}\n",
        "\n",
        "dash_dict = _create_group_metric_set(y_true=y_test,\n",
        "                                    predictions=ys_pred,\n",
        "                                    sensitive_features=sf,\n",
        "                                    prediction_type='regression')\n",
        "\n",
        "\n",
        "exp = run.experiment\n",
        "run = exp.start_logging()\n",
        "\n",
        "# Upload the dashboard to Azure Machine Learning\n",
        "try:\n",
        "    dashboard_title = \"Fairness insights of Ridge Regression Diabetes\"\n",
        "    # Set validate_model_ids parameter of upload_dashboard_dictionary to False if you have not registered your model(s)\n",
        "    upload_id = upload_dashboard_dictionary(run,\n",
        "                                            dash_dict,\n",
        "                                            dashboard_name=dashboard_title)\n",
        "    print(\"\\nUploaded to id: {0}\\n\".format(upload_id))\n",
        "finally:\n",
        "    run.complete()"
      ]
    },
    {
      "cell_type": "code",
      "execution_count": null,
      "metadata": {
        "gather": {
          "logged": 1635992837814
        },
        "jupyter": {
          "outputs_hidden": false,
          "source_hidden": false
        },
        "nteract": {
          "transient": {
            "deleting": false
          }
        }
      },
      "outputs": [],
      "source": [
        "from azureml.core import Experiment, ScriptRunConfig\n",
        "experiment = Experiment(workspace=ws, name='day2-experiment-train')\n",
        "config = ScriptRunConfig(source_directory='.',\n",
        "                             script='train_fairness.py',\n",
        "                             compute_target='cpu-cluster',\n",
        "                             environment=myenv)\n",
        "run = experiment.submit(config)"
      ]
    },
    {
      "cell_type": "code",
      "execution_count": null,
      "metadata": {
        "gather": {
          "logged": 1635992837991
        },
        "jupyter": {
          "outputs_hidden": false,
          "source_hidden": false
        },
        "nteract": {
          "transient": {
            "deleting": false
          }
        }
      },
      "outputs": [],
      "source": [
        "aml_url = run.get_portal_url()\n",
        "print(aml_url)"
      ]
    },
    {
      "cell_type": "code",
      "execution_count": null,
      "metadata": {
        "jupyter": {
          "outputs_hidden": false,
          "source_hidden": false
        },
        "nteract": {
          "transient": {
            "deleting": false
          }
        }
      },
      "outputs": [],
      "source": []
    }
  ],
  "metadata": {
    "interpreter": {
      "hash": "c096dee2bc5d6470acad85f7674543145906937f244a92d873297c0fe736b24d"
    },
    "kernel_info": {
      "name": "python3-azureml"
    },
    "kernelspec": {
      "display_name": "Python 3.7.1 64-bit ('.venv': venv)",
      "name": "python3"
    },
    "language_info": {
      "codemirror_mode": {
        "name": "ipython",
        "version": 3
      },
      "file_extension": ".py",
      "mimetype": "text/x-python",
      "name": "python",
      "nbconvert_exporter": "python",
      "pygments_lexer": "ipython3",
      "version": "3.7.1"
    },
    "microsoft": {
      "host": {
        "AzureML": {
          "notebookHasBeenCompleted": true
        }
      }
    },
    "nteract": {
      "version": "nteract-front-end@1.0.0"
    }
  },
  "nbformat": 4,
  "nbformat_minor": 2
}
